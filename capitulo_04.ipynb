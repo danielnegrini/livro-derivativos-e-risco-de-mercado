{
 "cells": [
  {
   "cell_type": "markdown",
   "metadata": {},
   "source": [
    "## 4.1 Ferramentas de Programação Matemática"
   ]
  },
  {
   "cell_type": "code",
   "execution_count": 1,
   "metadata": {},
   "outputs": [],
   "source": [
    "def minha_funcao(var_1, var_2): \n",
    "    resultado = var_1 + var_2 + 3\n",
    "    return resultado"
   ]
  },
  {
   "cell_type": "code",
   "execution_count": 2,
   "metadata": {},
   "outputs": [
    {
     "data": {
      "text/plain": [
       "6"
      ]
     },
     "execution_count": 2,
     "metadata": {},
     "output_type": "execute_result"
    }
   ],
   "source": [
    "minha_funcao(1, 2)"
   ]
  },
  {
   "cell_type": "code",
   "execution_count": 3,
   "metadata": {},
   "outputs": [],
   "source": [
    "from math import log, sqrt, exp\n",
    "from scipy import stats\n",
    "def black_scholes(S0, K, T, r, sigma):\n",
    "    d1 = (log(S0 / K) + (r + (sigma ** 2)/2) * T) / (sigma * sqrt(T))\n",
    "    d2 = d1 - sigma * sqrt(T)\n",
    "    return (S0 * stats.norm.cdf(d1, 0.0, 1.0) - K * exp(-r * T) * stats.norm.cdf(d2, 0.0, 1.0))"
   ]
  },
  {
   "cell_type": "code",
   "execution_count": 4,
   "metadata": {},
   "outputs": [
    {
     "data": {
      "text/plain": [
       "10.450583572185565"
      ]
     },
     "execution_count": 4,
     "metadata": {},
     "output_type": "execute_result"
    }
   ],
   "source": [
    "black_scholes(100, 100, 1, 0.05, 0.20)"
   ]
  },
  {
   "cell_type": "markdown",
   "metadata": {},
   "source": [
    "## 4.2 Árvore binomial"
   ]
  },
  {
   "cell_type": "code",
   "execution_count": 5,
   "metadata": {},
   "outputs": [
    {
     "data": {
      "text/plain": [
       "[2, 4, 6, 8, 10]"
      ]
     },
     "execution_count": 5,
     "metadata": {},
     "output_type": "execute_result"
    }
   ],
   "source": [
    "[x*2 for x in [1, 2, 3, 4, 5]]"
   ]
  },
  {
   "cell_type": "code",
   "execution_count": 6,
   "metadata": {},
   "outputs": [
    {
     "data": {
      "text/plain": [
       "[100.76, 86.0, 94.63999999999999, 111.2]"
      ]
     },
     "execution_count": 6,
     "metadata": {},
     "output_type": "execute_result"
    }
   ],
   "source": [
    "celsius = [38.2, 30, 34.8, 44]\n",
    "fahrenheit = [ 9/5*x + 32 for x in celsius ]\n",
    "fahrenheit"
   ]
  },
  {
   "cell_type": "code",
   "execution_count": 7,
   "metadata": {},
   "outputs": [],
   "source": [
    "from math import exp, sqrt \n",
    "def arvore_binomial_simplificada(S0, K, T, r, sigma, N=300): \n",
    "    # Define: delta t, u, d, a, p e um_menos_p. \n",
    "    delta_t = T / N\n",
    "    u = exp(sigma * sqrt(delta_t))\n",
    "    d = 1.0 / u\n",
    "    a = exp(r * delta_t)\n",
    "    p = (a - d) / (u - d)\n",
    "    um_menos_p = 1.0 - p\n",
    "    \n",
    "    # Cria a estrutura da árvore com todos os valores iguais a zero. \n",
    "    arv_b = [[0.0 for j in range(i + 1)] for i in range(N + 1)]\n",
    "    \n",
    "    # Cálcula o valor dos últimos nós da árvore binomial. \n",
    "    for j in range(N + 1):\n",
    "        arv_b[N][j] = max(S0 * u**j * d**(N - j) - K, 0.0)\n",
    "    \n",
    "    # Calcula os nós intermediários, dos últimos para o nó raiz.\n",
    "    for i in reversed(range(N)): \n",
    "        for j in range(i+1): \n",
    "            arv_b[i][j] = exp(-r * delta_t) * (p * arv_b[i+1][j + 1] +  um_menos_p * arv_b[i+1][j])\n",
    "    \n",
    "    # O valor do nó inicial da árvore é o valor da opção.\n",
    "    return arv_b[0][0]"
   ]
  },
  {
   "cell_type": "code",
   "execution_count": 8,
   "metadata": {},
   "outputs": [
    {
     "data": {
      "text/plain": [
       "0.9628409345029771"
      ]
     },
     "execution_count": 8,
     "metadata": {},
     "output_type": "execute_result"
    }
   ],
   "source": [
    "arvore_binomial_simplificada(S0=8.50, K=10, T=1.0, r=0.10, sigma=0.35)"
   ]
  },
  {
   "cell_type": "code",
   "execution_count": 9,
   "metadata": {},
   "outputs": [
    {
     "data": {
      "text/plain": [
       "1.0208463755398038"
      ]
     },
     "execution_count": 9,
     "metadata": {},
     "output_type": "execute_result"
    }
   ],
   "source": [
    "arvore_binomial_simplificada(S0=8.50, K=10.0, T=1.0, r=0.10, sigma=0.35, N=4)"
   ]
  },
  {
   "cell_type": "markdown",
   "metadata": {},
   "source": [
    "## 4.3 Árvore completa / Convergência com Black-Scholes"
   ]
  },
  {
   "cell_type": "code",
   "execution_count": 10,
   "metadata": {},
   "outputs": [],
   "source": [
    "from math import exp, sqrt\n",
    "def arvore_binomial_completa(S0, K, T, r, sigma, q, call_put_flag='c', N=300): \n",
    "    # Define: delta_t, u, d, a, p e um_menos_p.\n",
    "    delta_t = T / N\n",
    "    u = exp(sigma * sqrt(delta_t))\n",
    "    d = 1.0 / u\n",
    "    a = exp((r - q) * delta_t)\n",
    "    p = (a - d) / (u - d)\n",
    "    um_menos_p = 1.0 - p\n",
    "    \n",
    "    # Cria a estrutura da árvore com todos os valores iguais a zero.\n",
    "    arv_b = [[0.0 for j in range(i + 1)] for i in range(N + 1)]\n",
    "    \n",
    "    # Cálcula o valor dos últimos nós da árvore binomial.\n",
    "    for j in range(N + 1):\n",
    "        if call_put_flag == 'c': \n",
    "            arv_b[N][j] = max(S0 * u**j * d**(N - j) - K, 0.0)\n",
    "        else:\n",
    "            arv_b[N][j] = max(K - S0 * u**j * d**(N - j), 0.0)\n",
    "    \n",
    "    # Calcula os nós intermediários, dos últimos para o nó raiz.\n",
    "    for i in reversed(range(N)):\n",
    "        for j in range(i + 1):\n",
    "            valor_acao = S0 * d**i * u**(2*j)\n",
    "            if call_put_flag == 'c':\n",
    "                valor_imediato = max(valor_acao - K, 0) \n",
    "            else:\n",
    "                valor_imediato = max(K - valor_acao, 0) \n",
    "            valor_esperado = exp(-r * delta_t)*(p*arv_b[i + 1][j + 1] + um_menos_p * arv_b[i + 1][j])\n",
    "            arv_b[i][j] = max(valor_imediato, valor_esperado)\n",
    "    \n",
    "    # O valor do nó inicial da árvore é o valor da opção.\n",
    "    return arv_b[0][0]"
   ]
  },
  {
   "cell_type": "code",
   "execution_count": 11,
   "metadata": {},
   "outputs": [
    {
     "data": {
      "text/plain": [
       "6.08772261436826"
      ]
     },
     "execution_count": 11,
     "metadata": {},
     "output_type": "execute_result"
    }
   ],
   "source": [
    "arvore_binomial_completa(100, 100, 1, 0.05, 0.20, 0, call_put_flag='p')"
   ]
  },
  {
   "cell_type": "markdown",
   "metadata": {},
   "source": [
    "## 4.4 Entendendo o método de simulação de Monte Carlo"
   ]
  },
  {
   "cell_type": "code",
   "execution_count": 12,
   "metadata": {},
   "outputs": [
    {
     "data": {
      "image/png": "[encoded data removed]",
      "text/plain": [
       "<matplotlib.figure.Figure at 0xa981c50>"
      ]
     },
     "metadata": {},
     "output_type": "display_data"
    }
   ],
   "source": [
    "%matplotlib inline \n",
    "import numpy as np\n",
    "import matplotlib.pyplot as plt\n",
    "f = lambda x: 12 * np.sin(12 * x) + 20 * np.cos(4 * x) + 3 * np.exp(x/3) + 30\n",
    "x = np.linspace(0, 10, 1000)\n",
    "_ = plt.plot(x,f(x))"
   ]
  },
  {
   "cell_type": "code",
   "execution_count": 13,
   "metadata": {},
   "outputs": [],
   "source": [
    "largura = 10\n",
    "altura = 140\n",
    "numero_simulacao = 50000\n",
    "\n",
    "x_v = np.random.uniform(0, largura, numero_simulacao) \n",
    "y_v = np.random.uniform(0, altura, numero_simulacao)"
   ]
  },
  {
   "cell_type": "code",
   "execution_count": 14,
   "metadata": {},
   "outputs": [
    {
     "data": {
      "text/plain": [
       "array([ 4.78447031,  0.97171625,  7.64658805, ...,  0.46628852,\n",
       "        5.88992171,  1.16843071])"
      ]
     },
     "execution_count": 14,
     "metadata": {},
     "output_type": "execute_result"
    }
   ],
   "source": [
    "x_v"
   ]
  },
  {
   "cell_type": "code",
   "execution_count": 15,
   "metadata": {},
   "outputs": [
    {
     "data": {
      "text/plain": [
       "0.39062000000000002"
      ]
     },
     "execution_count": 15,
     "metadata": {},
     "output_type": "execute_result"
    }
   ],
   "source": [
    "pontos_abaixo_curva = y_v < f(x_v)\n",
    "proporcao_area_abaixo_fx = np.sum(pontos_abaixo_curva) / numero_simulacao\n",
    "proporcao_area_abaixo_fx"
   ]
  },
  {
   "cell_type": "code",
   "execution_count": 16,
   "metadata": {},
   "outputs": [
    {
     "data": {
      "text/plain": [
       "546.86800000000005"
      ]
     },
     "execution_count": 16,
     "metadata": {},
     "output_type": "execute_result"
    }
   ],
   "source": [
    "area_total = largura * altura\n",
    "area_abaixo_fx = area_total * proporcao_area_abaixo_fx\n",
    "area_abaixo_fx"
   ]
  },
  {
   "cell_type": "code",
   "execution_count": 17,
   "metadata": {},
   "outputs": [
    {
     "data": {
      "image/png": "[encoded data removed]",
      "text/plain": [
       "<matplotlib.figure.Figure at 0xaa07d68>"
      ]
     },
     "metadata": {},
     "output_type": "display_data"
    }
   ],
   "source": [
    "fig = plt.figure(figsize=(14,8))\n",
    "plt.scatter(x_v[pontos_abaixo_curva], y_v[pontos_abaixo_curva])\n",
    "plt.scatter(x_v[~pontos_abaixo_curva], y_v[~pontos_abaixo_curva], c='black');"
   ]
  },
  {
   "cell_type": "markdown",
   "metadata": {},
   "source": [
    "## 4.5 Simulação de Monte Carlo – Precificação de opções europeias"
   ]
  },
  {
   "cell_type": "code",
   "execution_count": 18,
   "metadata": {},
   "outputs": [],
   "source": [
    "import numpy as np\n",
    "def monte_carlo_europeia(S0, K, T, r, sigma, q, N=1000000):\n",
    "    z = np.random.standard_normal(N) \n",
    "    ST = S0 * np.exp((r - q - 0.5 * sigma ** 2) * T + sigma * np.sqrt(T) * z) \n",
    "    pT = np.maximum(ST - K, 0) \n",
    "    return np.mean(pT) * np.exp(-r * T) "
   ]
  },
  {
   "cell_type": "code",
   "execution_count": 19,
   "metadata": {},
   "outputs": [
    {
     "data": {
      "text/plain": [
       "0.84402692872105645"
      ]
     },
     "execution_count": 19,
     "metadata": {},
     "output_type": "execute_result"
    }
   ],
   "source": [
    "monte_carlo_europeia(S0=8.50, K=10.0, T=1.0, r=0.10, sigma=0.35, q=0.03)"
   ]
  },
  {
   "cell_type": "markdown",
   "metadata": {},
   "source": [
    "## 4.6 Simulação de Monte Carlo – Opções que dependem do caminho"
   ]
  },
  {
   "cell_type": "code",
   "execution_count": 20,
   "metadata": {},
   "outputs": [],
   "source": [
    "import numpy as np\n",
    "def monte_carlo_asiatica(S0, K, T, r, sigma, q, media_dias, dias_no_ano=252.0, N=10000): \n",
    "    delta_t = 1.0 / dias_no_ano\n",
    "    S = np.zeros((media_dias, N)) \n",
    "    t_inicial = T - (media_dias - 1) * delta_t\n",
    "    sn = np.random.standard_normal((media_dias, N)) \n",
    "    \n",
    "    # Simula o valor do primeiro dia usado na média\n",
    "    S[0] = S0 * np.exp((r - q - 0.5 * sigma ** 2) * t_inicial + sigma * np.sqrt(t_inicial) * sn[0]) \n",
    "    \n",
    "    # Simula os outros dias\n",
    "    for j in range(1, media_dias):\n",
    "        S[j] = S[j - 1] * np.exp((r - q - 0.5 * sigma ** 2)*delta_t + sigma * np.sqrt(delta_t) * sn[j]) \n",
    "    \n",
    "    # Calcula o payoff\n",
    "    pT = np.maximum(np.average(S, axis=0) - K, 0)\n",
    "    return np.mean(pT) * np.exp(-r * T)"
   ]
  },
  {
   "cell_type": "code",
   "execution_count": 21,
   "metadata": {},
   "outputs": [
    {
     "data": {
      "text/plain": [
       "0.76767824935032736"
      ]
     },
     "execution_count": 21,
     "metadata": {},
     "output_type": "execute_result"
    }
   ],
   "source": [
    "monte_carlo_asiatica(S0=8.50, K=10.0, T=1.0, r=0.10, sigma=0.35, q=0.03, media_dias=30)"
   ]
  },
  {
   "cell_type": "code",
   "execution_count": 22,
   "metadata": {},
   "outputs": [
    {
     "data": {
      "text/plain": [
       "0.87356627096136186"
      ]
     },
     "execution_count": 22,
     "metadata": {},
     "output_type": "execute_result"
    }
   ],
   "source": [
    "monte_carlo_asiatica(S0=8.50, K=10.0, T=1.0, r=0.10, sigma=0.35, q=0.03, media_dias=1)"
   ]
  },
  {
   "cell_type": "code",
   "execution_count": 23,
   "metadata": {},
   "outputs": [
    {
     "data": {
      "image/png": "[encoded data removed]",
      "text/plain": [
       "<matplotlib.figure.Figure at 0xaa3fb38>"
      ]
     },
     "metadata": {},
     "output_type": "display_data"
    }
   ],
   "source": [
    "asian_option = np.zeros(252)\n",
    "for i in range(1, 252):\n",
    "    asian_option[i] = monte_carlo_asiatica(S0=8.50, K=10.0, T=1.0, r=0.10, sigma=0.35, q=0.03, media_dias=i, N=100000)  \n",
    "\n",
    "import matplotlib.pyplot as plt\n",
    "fig, ax = plt.subplots(figsize=(12,6))\n",
    "ax.set_ylabel('Valor da Opção')\n",
    "ax.set_xlabel('Parâmetro M (média_dias)')\n",
    "_ = plt.plot(asian_option[1:], '.')    "
   ]
  },
  {
   "cell_type": "markdown",
   "metadata": {},
   "source": [
    "## 4.7 Modelo Longstaff e Schwartz\n",
    "\n",
    "\n"
   ]
  },
  {
   "cell_type": "code",
   "execution_count": 24,
   "metadata": {},
   "outputs": [],
   "source": [
    "import numpy as np\n",
    "def monte_carlo_longstaff_schwartz(S0, K, T, r, sigma, q, N=500000, P=40): \n",
    "    delta_t = T / P\n",
    "    df = np.exp(-r * delta_t)\n",
    "    S = np.zeros((P + 1, N))\n",
    "    \n",
    "    # Simula o valor do ativo\n",
    "    S[0] = S0\n",
    "    sn = np.random.standard_normal((P + 1, N))\n",
    "    for t in range(1, P + 1):\n",
    "        S[t] = S[t - 1] * np.exp((r - q - 0.5 * sigma ** 2) *\n",
    "                    delta_t + sigma * np.sqrt(delta_t) * sn[t]) \n",
    "   \n",
    "    # Longstaff Schwartz\n",
    "    V = np.maximum(S - K, 0) \n",
    "    for t in reversed(range(P)): \n",
    "        mask = V[t] > 0 \n",
    "        if np.sum(mask) > 3: \n",
    "            reg = np.polyfit(S[t][mask], V[t + 1][mask] * df, deg=3) \n",
    "            v_esperado = np.polyval(reg, S[t][mask]) \n",
    "            V[t][mask] = np.where(V[t][mask] > v_esperado, V[t][mask],\n",
    "                    V[t + 1][mask] * df) \n",
    "            V[t][~mask] = V[t + 1][~mask] * df \n",
    "        else: \n",
    "            V[t] = V[t + 1] * df\n",
    "   \n",
    "    return np.mean(V[0])"
   ]
  },
  {
   "cell_type": "code",
   "execution_count": 25,
   "metadata": {},
   "outputs": [
    {
     "data": {
      "text/plain": [
       "0.83769983372212198"
      ]
     },
     "execution_count": 25,
     "metadata": {},
     "output_type": "execute_result"
    }
   ],
   "source": [
    "monte_carlo_longstaff_schwartz(S0=8.5, K=10, T=1.0, r=0.10, sigma=0.35, q=0.03)"
   ]
  },
  {
   "cell_type": "markdown",
   "metadata": {},
   "source": [
    "## 4.8 Gregas"
   ]
  },
  {
   "cell_type": "markdown",
   "metadata": {},
   "source": [
    "#### 4.8.1 Delta\n"
   ]
  },
  {
   "cell_type": "code",
   "execution_count": 26,
   "metadata": {},
   "outputs": [],
   "source": [
    "def delta_formula(S0, K, T, r, sigma, q):\n",
    "    d1 = (log(S0 / K) + (r - q + (sigma ** 2)/2) * T) / (sigma * sqrt(T))\n",
    "    return exp(-q* T) * stats.norm.cdf(d1, 0.0, 1.0)"
   ]
  },
  {
   "cell_type": "code",
   "execution_count": 27,
   "metadata": {},
   "outputs": [
    {
     "data": {
      "text/plain": [
       "0.45068066334990481"
      ]
     },
     "execution_count": 27,
     "metadata": {},
     "output_type": "execute_result"
    }
   ],
   "source": [
    "delta_formula(S0=8.50, K=10.0, T=1.0, r=0.10, sigma=0.35, q=0.03)"
   ]
  },
  {
   "cell_type": "code",
   "execution_count": 28,
   "metadata": {},
   "outputs": [],
   "source": [
    "from math import log, sqrt, exp\n",
    "from scipy import stats\n",
    "def black_scholes(S0, K, T, r, vol, q):\n",
    "    d1 = (log(S0 / K) + (r - q +  (vol ** 2)/2) * T) / (vol * sqrt(T))\n",
    "    d2 = d1 - vol * sqrt(T)\n",
    "    value = (S0 * exp(-q * T) * stats.norm.cdf(d1, 0.0, 1.0) - K * exp(-r * T) * stats.norm.cdf(d2, 0.0, 1.0))\n",
    "    return value"
   ]
  },
  {
   "cell_type": "code",
   "execution_count": 29,
   "metadata": {},
   "outputs": [],
   "source": [
    "def delta_dif_black_scholes(S0, K, T, r, sigma, q, ds=0.001):\n",
    "    x1 = black_scholes(S0 - ds, K, T, r, sigma, q)\n",
    "    x2 = black_scholes(S0 + ds, K, T, r, sigma, q)\n",
    "    return (x2 - x1) / (2 * ds)"
   ]
  },
  {
   "cell_type": "code",
   "execution_count": 30,
   "metadata": {},
   "outputs": [
    {
     "data": {
      "text/plain": [
       "0.45068066145725894"
      ]
     },
     "execution_count": 30,
     "metadata": {},
     "output_type": "execute_result"
    }
   ],
   "source": [
    "delta_dif_black_scholes(S0=8.50, K=10.0, T=1.0, r=0.10, sigma=0.35, q=0.03)"
   ]
  },
  {
   "cell_type": "code",
   "execution_count": 31,
   "metadata": {},
   "outputs": [],
   "source": [
    "def delta_dif_arvore_binomial(S0, K, T, r, sigma, q, ds=0.001):\n",
    "    x1 = arvore_binomial_completa(S0 - ds, K, T, r, sigma, q)\n",
    "    x2 = arvore_binomial_completa(S0 + ds, K, T, r, sigma, q)\n",
    "    return (x2 - x1) / (2 * ds)"
   ]
  },
  {
   "cell_type": "code",
   "execution_count": 32,
   "metadata": {},
   "outputs": [
    {
     "data": {
      "text/plain": [
       "0.4295720142865611"
      ]
     },
     "execution_count": 32,
     "metadata": {},
     "output_type": "execute_result"
    }
   ],
   "source": [
    "delta_dif_arvore_binomial(S0=8.50, K=10.0, T=1.0, r=0.10, sigma=0.35, q=0.03)"
   ]
  },
  {
   "cell_type": "code",
   "execution_count": 33,
   "metadata": {},
   "outputs": [],
   "source": [
    "import numpy as np\n",
    "def monte_carlo_europeia(S0, K, T, r, sigma, q, N=10000000, seed=0):\n",
    "    np.random.seed(seed)\n",
    "    z = np.random.standard_normal(N)\n",
    "    ST = S0 * np.exp((r - q - 0.5 * sigma ** 2) * T + sigma * np.sqrt(T) * z)\n",
    "    pT = np.maximum(ST - K, 0)\n",
    "    return np.mean(pT) * np.exp(-r * T)"
   ]
  },
  {
   "cell_type": "code",
   "execution_count": 34,
   "metadata": {},
   "outputs": [],
   "source": [
    "def delta_dif_monte_carlo(S0, K, T, r, sigma, q, ds=0.001):\n",
    "    x1 = monte_carlo_europeia(S0 - ds, K, T, r, sigma, q, seed=0)\n",
    "    x2 = monte_carlo_europeia(S0 + ds, K, T, r, sigma, q, seed=0)\n",
    "    return (x2 - x1) / (2 * ds)"
   ]
  },
  {
   "cell_type": "code",
   "execution_count": 35,
   "metadata": {},
   "outputs": [
    {
     "data": {
      "text/plain": [
       "0.45078801367792742"
      ]
     },
     "execution_count": 35,
     "metadata": {},
     "output_type": "execute_result"
    }
   ],
   "source": [
    "delta_dif_monte_carlo(S0=8.50, K=10.0, T=1.0, r=0.10, sigma=0.35, q=0.03)"
   ]
  },
  {
   "cell_type": "markdown",
   "metadata": {},
   "source": [
    "#### 4.8.2 Gamma"
   ]
  },
  {
   "cell_type": "code",
   "execution_count": 36,
   "metadata": {},
   "outputs": [],
   "source": [
    "def gamma_dif_black_scholes(S0, K, T, r, sigma, q, ds=0.001):\n",
    "    x1 = black_scholes(S0 + ds , K, T, r, sigma, q)\n",
    "    x2 = -2 * black_scholes(S0, K, T, r, sigma, q)\n",
    "    x3 = black_scholes(S0 - ds , K, T, r, sigma, q)\n",
    "    return (x1 + x2 + x3) / (ds**2)"
   ]
  },
  {
   "cell_type": "code",
   "execution_count": 37,
   "metadata": {},
   "outputs": [
    {
     "data": {
      "text/plain": [
       "0.1296167333464382"
      ]
     },
     "execution_count": 37,
     "metadata": {},
     "output_type": "execute_result"
    }
   ],
   "source": [
    "gamma_dif_black_scholes(S0=8.50, K=10.0, T=1.0, r=0.10, sigma=0.35, q=0.03)"
   ]
  },
  {
   "cell_type": "markdown",
   "metadata": {},
   "source": [
    "#### 4.8.3 Theta"
   ]
  },
  {
   "cell_type": "code",
   "execution_count": 38,
   "metadata": {},
   "outputs": [],
   "source": [
    "def theta_dif_black_scholes(S0, K, T, r, sigma, q, ds=0.01):\n",
    "    x1 = black_scholes(S0, K, T - ds, r, sigma, q)\n",
    "    x2 = black_scholes(S0, K, T + ds, r, sigma, q)\n",
    "    return -(x2 - x1) / (2*ds)"
   ]
  },
  {
   "cell_type": "code",
   "execution_count": 39,
   "metadata": {},
   "outputs": [
    {
     "data": {
      "text/plain": [
       "-0.0075745901153336792"
      ]
     },
     "execution_count": 39,
     "metadata": {},
     "output_type": "execute_result"
    }
   ],
   "source": [
    "theta_dif_black_scholes(S0=8.50, K=10.0, T=1.0, r=0.10, sigma=0.35, q=0.03)/100"
   ]
  },
  {
   "cell_type": "code",
   "execution_count": 40,
   "metadata": {},
   "outputs": [],
   "source": [
    "def theta_1dia_black_scholes(S0, K, T, r, sigma, q, base=252.0):\n",
    "    x1 = black_scholes(S0, K, (T * base - 1)/base, r, sigma, q)\n",
    "    x2 = black_scholes(S0, K, T, r, sigma, q)\n",
    "    return -(x2 - x1)"
   ]
  },
  {
   "cell_type": "code",
   "execution_count": 41,
   "metadata": {},
   "outputs": [
    {
     "data": {
      "text/plain": [
       "-0.0030079030027372333"
      ]
     },
     "execution_count": 41,
     "metadata": {},
     "output_type": "execute_result"
    }
   ],
   "source": [
    "theta_1dia_black_scholes(S0=8.50, K=10.0, T=1.0, r=0.10, sigma=0.35, q=0.03)"
   ]
  },
  {
   "cell_type": "markdown",
   "metadata": {},
   "source": [
    "#### 4.8.4 Vega"
   ]
  },
  {
   "cell_type": "code",
   "execution_count": 42,
   "metadata": {},
   "outputs": [],
   "source": [
    "def vega_dif_black_scholes(S0, K, T, r, sigma, q, ds=0.01):\n",
    "    x1 = black_scholes(S0, K, T, r, sigma - ds, q)\n",
    "    x2 = black_scholes(S0, K, T, r, sigma + ds, q)\n",
    "    vega_1 = (x2 - x1) / (2 * ds)\n",
    "    return vega_1 / 100"
   ]
  },
  {
   "cell_type": "code",
   "execution_count": 43,
   "metadata": {},
   "outputs": [
    {
     "data": {
      "text/plain": [
       "0.032775766747360713"
      ]
     },
     "execution_count": 43,
     "metadata": {},
     "output_type": "execute_result"
    }
   ],
   "source": [
    "vega_dif_black_scholes(S0=8.50, K=10.0, T=1.0, r=0.10, sigma=0.35, q=0.03)"
   ]
  },
  {
   "cell_type": "code",
   "execution_count": 44,
   "metadata": {},
   "outputs": [
    {
     "data": {
      "text/plain": [
       "0.032794171262257255"
      ]
     },
     "execution_count": 44,
     "metadata": {},
     "output_type": "execute_result"
    }
   ],
   "source": [
    "bs_vol35 = black_scholes(8.5, 10.0, 1.0, 0.10, 0.35, 0.03)\n",
    "bs_vol36 = black_scholes(8.50, 10.0, 1.0, 0.10, 0.35 + 0.01, 0.03)\n",
    "bs_vol36 - bs_vol35"
   ]
  },
  {
   "cell_type": "markdown",
   "metadata": {},
   "source": [
    "#### 4.8.5 Rhô"
   ]
  },
  {
   "cell_type": "code",
   "execution_count": 45,
   "metadata": {},
   "outputs": [],
   "source": [
    "def rho_dif_black_scholes(S0, K, T, r, sigma, q, ds=0.01):\n",
    "    x1 = black_scholes(S0, K, T, r - ds, sigma, q)\n",
    "    x2 = black_scholes(S0, K, T, r + ds, sigma, q)\n",
    "    rho_1 = (x2 - x1) / (2 * ds)\n",
    "    return rho_1 / 100"
   ]
  },
  {
   "cell_type": "code",
   "execution_count": 46,
   "metadata": {},
   "outputs": [
    {
     "data": {
      "text/plain": [
       "0.029877761172990347"
      ]
     },
     "execution_count": 46,
     "metadata": {},
     "output_type": "execute_result"
    }
   ],
   "source": [
    "rho_dif_black_scholes(S0=8.50, K=10.0, T=1.0, r=0.10, sigma=0.35, q=0.03)"
   ]
  },
  {
   "cell_type": "markdown",
   "metadata": {},
   "source": [
    "#### 4.8.6 Análise das Gregas\n"
   ]
  },
  {
   "cell_type": "code",
   "execution_count": 47,
   "metadata": {},
   "outputs": [
    {
     "data": {
      "image/png": "[encoded data removed]",
      "text/plain": [
       "<matplotlib.figure.Figure at 0xaa0f7f0>"
      ]
     },
     "metadata": {},
     "output_type": "display_data"
    }
   ],
   "source": [
    "delta_bs_v = np.vectorize(delta_dif_black_scholes)\n",
    "gamma_bs_v = np.vectorize(gamma_dif_black_scholes)\n",
    "vS0 = np.linspace(1, 20, 100)\n",
    "\n",
    "import matplotlib.pyplot as plt\n",
    "fig, ax1 = plt.subplots(figsize=(8,5))\n",
    "ax2 = ax1.twinx()\n",
    "ax1.plot(vS0, delta_bs_v(S0=vS0, K=10.0, T=1.0, r=0.10, sigma=0.35, q=0.03), linewidth=2, label='delta') \n",
    "ax2.plot(vS0, gamma_bs_v(S0=vS0, K=10.0, T=1.0, r=0.10, sigma=0.35, q=0.03), 'r', label='gamma')\n",
    "ax1.legend(); ax2.legend();"
   ]
  },
  {
   "cell_type": "markdown",
   "metadata": {},
   "source": [
    "## 4.9 Volatilidade\n"
   ]
  },
  {
   "cell_type": "code",
   "execution_count": 48,
   "metadata": {},
   "outputs": [
    {
     "data": {
      "image/png": "[encoded data removed]",
      "text/plain": [
       "<matplotlib.figure.Figure at 0xd6a2e48>"
      ]
     },
     "metadata": {},
     "output_type": "display_data"
    }
   ],
   "source": [
    "import numpy as np\n",
    "import pandas as pd\n",
    "import pandas_datareader.data as web\n",
    "petr = web.DataReader('PETR4.SA', data_source='yahoo', start='8/31/2006', end='8/31/2016').dropna()\n",
    "petr['Log Ret'] = np.log(petr['Adj Close'] / petr['Adj Close'].shift(1)) \n",
    "petr['vol_252'] = petr['Log Ret'].rolling(window=252, center=False).std()\n",
    "petr['vol_252'].plot();"
   ]
  },
  {
   "cell_type": "code",
   "execution_count": 49,
   "metadata": {},
   "outputs": [
    {
     "data": {
      "text/html": [
       "<div>\n",
       "<style>\n",
       "    .dataframe thead tr:only-child th {\n",
       "        text-align: right;\n",
       "    }\n",
       "\n",
       "    .dataframe thead th {\n",
       "        text-align: left;\n",
       "    }\n",
       "\n",
       "    .dataframe tbody tr th {\n",
       "        vertical-align: top;\n",
       "    }\n",
       "</style>\n",
       "<table border=\"1\" class=\"dataframe\">\n",
       "  <thead>\n",
       "    <tr style=\"text-align: right;\">\n",
       "      <th></th>\n",
       "      <th>Open</th>\n",
       "      <th>High</th>\n",
       "      <th>Low</th>\n",
       "      <th>Close</th>\n",
       "      <th>Adj Close</th>\n",
       "      <th>Volume</th>\n",
       "    </tr>\n",
       "    <tr>\n",
       "      <th>Date</th>\n",
       "      <th></th>\n",
       "      <th></th>\n",
       "      <th></th>\n",
       "      <th></th>\n",
       "      <th></th>\n",
       "      <th></th>\n",
       "    </tr>\n",
       "  </thead>\n",
       "  <tbody>\n",
       "    <tr>\n",
       "      <th>2016-08-25</th>\n",
       "      <td>12.42</td>\n",
       "      <td>12.64</td>\n",
       "      <td>12.35</td>\n",
       "      <td>12.53</td>\n",
       "      <td>12.53</td>\n",
       "      <td>40290500.0</td>\n",
       "    </tr>\n",
       "    <tr>\n",
       "      <th>2016-08-26</th>\n",
       "      <td>12.69</td>\n",
       "      <td>12.90</td>\n",
       "      <td>12.45</td>\n",
       "      <td>12.55</td>\n",
       "      <td>12.55</td>\n",
       "      <td>50650500.0</td>\n",
       "    </tr>\n",
       "    <tr>\n",
       "      <th>2016-08-29</th>\n",
       "      <td>12.50</td>\n",
       "      <td>12.96</td>\n",
       "      <td>12.45</td>\n",
       "      <td>12.87</td>\n",
       "      <td>12.87</td>\n",
       "      <td>36990100.0</td>\n",
       "    </tr>\n",
       "    <tr>\n",
       "      <th>2016-08-30</th>\n",
       "      <td>13.04</td>\n",
       "      <td>13.23</td>\n",
       "      <td>12.97</td>\n",
       "      <td>13.09</td>\n",
       "      <td>13.09</td>\n",
       "      <td>51893700.0</td>\n",
       "    </tr>\n",
       "    <tr>\n",
       "      <th>2016-08-31</th>\n",
       "      <td>13.13</td>\n",
       "      <td>13.22</td>\n",
       "      <td>12.71</td>\n",
       "      <td>12.85</td>\n",
       "      <td>12.85</td>\n",
       "      <td>61016100.0</td>\n",
       "    </tr>\n",
       "  </tbody>\n",
       "</table>\n",
       "</div>"
      ],
      "text/plain": [
       "             Open   High    Low  Close  Adj Close      Volume\n",
       "Date                                                         \n",
       "2016-08-25  12.42  12.64  12.35  12.53      12.53  40290500.0\n",
       "2016-08-26  12.69  12.90  12.45  12.55      12.55  50650500.0\n",
       "2016-08-29  12.50  12.96  12.45  12.87      12.87  36990100.0\n",
       "2016-08-30  13.04  13.23  12.97  13.09      13.09  51893700.0\n",
       "2016-08-31  13.13  13.22  12.71  12.85      12.85  61016100.0"
      ]
     },
     "execution_count": 49,
     "metadata": {},
     "output_type": "execute_result"
    }
   ],
   "source": [
    "petr = web.DataReader('PETR4.SA', data_source='yahoo', start='8/31/2006', end='8/31/2016')\n",
    "petr.tail()"
   ]
  },
  {
   "cell_type": "code",
   "execution_count": 50,
   "metadata": {},
   "outputs": [
    {
     "data": {
      "text/html": [
       "<div>\n",
       "<style>\n",
       "    .dataframe thead tr:only-child th {\n",
       "        text-align: right;\n",
       "    }\n",
       "\n",
       "    .dataframe thead th {\n",
       "        text-align: left;\n",
       "    }\n",
       "\n",
       "    .dataframe tbody tr th {\n",
       "        vertical-align: top;\n",
       "    }\n",
       "</style>\n",
       "<table border=\"1\" class=\"dataframe\">\n",
       "  <thead>\n",
       "    <tr style=\"text-align: right;\">\n",
       "      <th></th>\n",
       "      <th>Open</th>\n",
       "      <th>High</th>\n",
       "      <th>Low</th>\n",
       "      <th>Close</th>\n",
       "      <th>Adj Close</th>\n",
       "      <th>Volume</th>\n",
       "      <th>Log Ret</th>\n",
       "    </tr>\n",
       "    <tr>\n",
       "      <th>Date</th>\n",
       "      <th></th>\n",
       "      <th></th>\n",
       "      <th></th>\n",
       "      <th></th>\n",
       "      <th></th>\n",
       "      <th></th>\n",
       "      <th></th>\n",
       "    </tr>\n",
       "  </thead>\n",
       "  <tbody>\n",
       "    <tr>\n",
       "      <th>2016-08-25</th>\n",
       "      <td>12.42</td>\n",
       "      <td>12.64</td>\n",
       "      <td>12.35</td>\n",
       "      <td>12.53</td>\n",
       "      <td>12.53</td>\n",
       "      <td>40290500.0</td>\n",
       "      <td>0.010429</td>\n",
       "    </tr>\n",
       "    <tr>\n",
       "      <th>2016-08-26</th>\n",
       "      <td>12.69</td>\n",
       "      <td>12.90</td>\n",
       "      <td>12.45</td>\n",
       "      <td>12.55</td>\n",
       "      <td>12.55</td>\n",
       "      <td>50650500.0</td>\n",
       "      <td>0.001595</td>\n",
       "    </tr>\n",
       "    <tr>\n",
       "      <th>2016-08-29</th>\n",
       "      <td>12.50</td>\n",
       "      <td>12.96</td>\n",
       "      <td>12.45</td>\n",
       "      <td>12.87</td>\n",
       "      <td>12.87</td>\n",
       "      <td>36990100.0</td>\n",
       "      <td>0.025178</td>\n",
       "    </tr>\n",
       "    <tr>\n",
       "      <th>2016-08-30</th>\n",
       "      <td>13.04</td>\n",
       "      <td>13.23</td>\n",
       "      <td>12.97</td>\n",
       "      <td>13.09</td>\n",
       "      <td>13.09</td>\n",
       "      <td>51893700.0</td>\n",
       "      <td>0.016950</td>\n",
       "    </tr>\n",
       "    <tr>\n",
       "      <th>2016-08-31</th>\n",
       "      <td>13.13</td>\n",
       "      <td>13.22</td>\n",
       "      <td>12.71</td>\n",
       "      <td>12.85</td>\n",
       "      <td>12.85</td>\n",
       "      <td>61016100.0</td>\n",
       "      <td>-0.018505</td>\n",
       "    </tr>\n",
       "  </tbody>\n",
       "</table>\n",
       "</div>"
      ],
      "text/plain": [
       "             Open   High    Low  Close  Adj Close      Volume   Log Ret\n",
       "Date                                                                   \n",
       "2016-08-25  12.42  12.64  12.35  12.53      12.53  40290500.0  0.010429\n",
       "2016-08-26  12.69  12.90  12.45  12.55      12.55  50650500.0  0.001595\n",
       "2016-08-29  12.50  12.96  12.45  12.87      12.87  36990100.0  0.025178\n",
       "2016-08-30  13.04  13.23  12.97  13.09      13.09  51893700.0  0.016950\n",
       "2016-08-31  13.13  13.22  12.71  12.85      12.85  61016100.0 -0.018505"
      ]
     },
     "execution_count": 50,
     "metadata": {},
     "output_type": "execute_result"
    }
   ],
   "source": [
    "petr['Log Ret'] = np.log(petr['Adj Close'] / petr['Adj Close'].shift(1))\n",
    "petr.tail()"
   ]
  },
  {
   "cell_type": "code",
   "execution_count": 51,
   "metadata": {},
   "outputs": [],
   "source": [
    "from scipy import optimize\n",
    "def volatilidade_implicita_black_scholes(S0, K, T, r, q, price):\n",
    "    def vol_function(sigma): \n",
    "        return black_scholes(S0, K, T, r, sigma, q) - price \n",
    "    return optimize.fsolve(vol_function, 0.40)[0]"
   ]
  },
  {
   "cell_type": "code",
   "execution_count": 52,
   "metadata": {},
   "outputs": [
    {
     "data": {
      "text/plain": [
       "0.27540212470094033"
      ]
     },
     "execution_count": 52,
     "metadata": {},
     "output_type": "execute_result"
    }
   ],
   "source": [
    "volatilidade_implicita_black_scholes(S0=8.50, K=10.0, T=1.0, r=0.10, q=0.03, price=0.60)"
   ]
  },
  {
   "cell_type": "code",
   "execution_count": 53,
   "metadata": {},
   "outputs": [],
   "source": [
    "from scipy import optimize\n",
    "def volatilidade_implicita_arvore_binomial(S0, K, T, r, q, price):\n",
    "    def vol_function(sigma):\n",
    "        return arvore_binomial_completa(S0, K, T, r, sigma, q) -  price \n",
    "    return optimize.fsolve(vol_function, .40)[0]"
   ]
  },
  {
   "cell_type": "code",
   "execution_count": 54,
   "metadata": {},
   "outputs": [
    {
     "data": {
      "text/plain": [
       "0.39754137954395169"
      ]
     },
     "execution_count": 54,
     "metadata": {},
     "output_type": "execute_result"
    }
   ],
   "source": [
    "volatilidade_implicita_arvore_binomial(S0=8.50, K=10.0, T=1.0, r=0.10, q=0.03, price=1)"
   ]
  },
  {
   "cell_type": "markdown",
   "metadata": {},
   "source": [
    "## 4.10 Algumas questões práticas: pontos de atenção em relação aos parâmetros"
   ]
  },
  {
   "cell_type": "code",
   "execution_count": 55,
   "metadata": {},
   "outputs": [],
   "source": [
    "import numpy as np"
   ]
  },
  {
   "cell_type": "code",
   "execution_count": 56,
   "metadata": {},
   "outputs": [
    {
     "data": {
      "text/plain": [
       "0.095310179804324935"
      ]
     },
     "execution_count": 56,
     "metadata": {},
     "output_type": "execute_result"
    }
   ],
   "source": [
    "np.log(1 + 0.10)"
   ]
  }
 ],
 "metadata": {
  "kernelspec": {
   "display_name": "Python 3",
   "language": "python",
   "name": "python3"
  },
  "language_info": {
   "codemirror_mode": {
    "name": "ipython",
    "version": 3
   },
   "file_extension": ".py",
   "mimetype": "text/x-python",
   "name": "python",
   "nbconvert_exporter": "python",
   "pygments_lexer": "ipython3",
   "version": "3.6.2"
  }
 },
 "nbformat": 4,
 "nbformat_minor": 2
}
