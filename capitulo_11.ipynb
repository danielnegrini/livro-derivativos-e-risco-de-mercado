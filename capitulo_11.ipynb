{
 "cells": [
  {
   "cell_type": "code",
   "execution_count": 1,
   "metadata": {},
   "outputs": [],
   "source": [
    "import numpy as np"
   ]
  },
  {
   "cell_type": "markdown",
   "metadata": {},
   "source": [
    "## 11.1.1 Carteiras Eficientes com N ativos arriscados"
   ]
  },
  {
   "cell_type": "code",
   "execution_count": 2,
   "metadata": {},
   "outputs": [],
   "source": [
    "# Matriz de covariancia dos ativos\n",
    "cov = np.matrix([[0.3, 0.02, 0.01], [0.02, 0.15, 0.03], [0.01, 0.03, 0.18]])\n",
    "\n",
    "# Retornos esperados dos ativos\n",
    "ret = np.matrix([[0.08, 0.03, 0.05]]).T\n",
    "\n",
    "# Retorno esperado da carteira\n",
    "ret_cart = .08\n",
    "\n",
    "def fronteira_eficiente(mi, sig, mi_pi):\n",
    "    N = sig.shape[0]\n",
    "    ones = np.ones((N,1))\n",
    "    A = mi.T * np.linalg.inv(sig) * ones\n",
    "    B = mi.T * np.linalg.inv(sig) * mi\n",
    "    C = ones.T * np.linalg.inv(sig) * ones\n",
    "    D = B*C - A**2\n",
    "    g = (B[0, 0] * np.linalg.inv(sig) * ones - A[0, 0] * np.linalg.inv(sig) * mi) / D[0, 0]\n",
    "    h = (C[0, 0] * np.linalg.inv(sig) * mi - A[0, 0] * np.linalg.inv(sig) * ones) / D[0, 0]\n",
    "    W = g + mi_pi * h\n",
    "    sig_pi = np.sqrt(W.T * sig * W)\n",
    "    mi_min = -(g.T * sig * h) / (h.T * sig * h)\n",
    "    sig_min = np.sqrt(g.T * sig * g - ((g.T * sig * h) ** 2) / (h.T * sig   * h))\n",
    "    return W"
   ]
  },
  {
   "cell_type": "markdown",
   "metadata": {},
   "source": [
    "## 11.1.2 Carteiras de mercado com N ativos arriscados"
   ]
  },
  {
   "cell_type": "code",
   "execution_count": 3,
   "metadata": {},
   "outputs": [],
   "source": [
    "# Matriz de covariancia dos ativos\n",
    "cov = np.matrix([[0.3, 0.02, 0.01], [0.02, 0.15, 0.03], [0.01, 0.03, 0.18]])\n",
    "\n",
    "# Retornos esperados dos ativos\n",
    "ret = np.matrix([[0.08, 0.03, 0.05]]).T\n",
    "\n",
    "# Retorno livre de risco\n",
    "ret_rf = .02\n",
    "\n",
    "def carteira_mercado(mi, sig, mi_rf):\n",
    "    N = sig.shape[0]\n",
    "    ones = np.ones((N,1))\n",
    "    lamb = 1 / ((mi - mi_rf).T * np.linalg.inv(sig).T * ones)\n",
    "    W = (lamb.item(0) * np.linalg.inv(sig) * (mi - mi_rf)).T\n",
    "    return W"
   ]
  },
  {
   "cell_type": "markdown",
   "metadata": {},
   "source": [
    "## 11.2.1 Modelo de 1 Fator"
   ]
  },
  {
   "cell_type": "code",
   "execution_count": 4,
   "metadata": {},
   "outputs": [],
   "source": [
    "# Matriz de retornos dos ativos disponíveis\n",
    "ret_i = np.matrix(np.random.random((100, 5)))\n",
    "\n",
    "# Vetor de retornos de um índice de mercado\n",
    "ret_m = np.matrix(np.random.random((100, 1)))\n",
    "\n",
    "def modelo_um_fator(ri, rm):\n",
    "    K = ri.shape[1]\n",
    "    N = ri.shape[0]\n",
    "    sig_m = np.std(rm)\n",
    "    betas = np.zeros((K, 1))\n",
    "    alphas = np.zeros((K,1))\n",
    "    e = np.matrix(np.zeros((N,K)))\n",
    "    for j in range(0, K):\n",
    "        series = np.vstack((ri[:,j],rm))\n",
    "        betas[j] = np.cov(series.T)/np.var(rm)\n",
    "        alphas[j] = np.mean(ri[:,j])-betas[j]*np.mean(rm)\n",
    "    e[:, j] = ri[:, j] - (alphas.item(j) + betas.item(j) * rm)\n",
    "    ee = e.T * e * np.diag(np.ones(K))\n",
    "    omega = sig_m**2 * betas * betas.T + ee\n",
    "    return omega"
   ]
  }
 ],
 "metadata": {
  "kernelspec": {
   "display_name": "Python 3",
   "language": "python",
   "name": "python3"
  },
  "language_info": {
   "codemirror_mode": {
    "name": "ipython",
    "version": 3
   },
   "file_extension": ".py",
   "mimetype": "text/x-python",
   "name": "python",
   "nbconvert_exporter": "python",
   "pygments_lexer": "ipython3",
   "version": "3.6.2"
  }
 },
 "nbformat": 4,
 "nbformat_minor": 2
}
